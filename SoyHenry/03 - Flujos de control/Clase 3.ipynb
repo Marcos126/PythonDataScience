{
 "cells": [
  {
   "attachments": {},
   "cell_type": "markdown",
   "metadata": {},
   "source": [
    "1) Crear una variable que contenga un elemento del conjunto de números enteros y luego imprimir por pantalla si es mayor o menor a cero\n"
   ]
  },
  {
   "cell_type": "code",
   "execution_count": null,
   "metadata": {},
   "outputs": [],
   "source": [
    "a = 5\n",
    "if a > 0:\n",
    "    print(a, 'es mayor a 0')"
   ]
  },
  {
   "attachments": {},
   "cell_type": "markdown",
   "metadata": {},
   "source": [
    "2) Crear dos variables y un condicional que informe si son del mismo tipo de dato\n"
   ]
  },
  {
   "cell_type": "code",
   "execution_count": null,
   "metadata": {},
   "outputs": [],
   "source": [
    "b = '123123'\n",
    "c = '2'\n",
    "if type(b) == type(c):\n",
    "    print('b es igual a c')\n",
    "else:\n",
    "    print('b es diferente a c')"
   ]
  },
  {
   "attachments": {},
   "cell_type": "markdown",
   "metadata": {},
   "source": [
    "3) Para los valores enteros del 1 al 20, imprimir por pantalla si es par o impar"
   ]
  },
  {
   "cell_type": "code",
   "execution_count": null,
   "metadata": {},
   "outputs": [],
   "source": [
    "for i in range(21):\n",
    "    if i % 2 == 0:\n",
    "        print('el numero', i, 'Es par')\n",
    "    else: \n",
    "        print('el numero', i,'Es impar')\n",
    "    "
   ]
  },
  {
   "attachments": {},
   "cell_type": "markdown",
   "metadata": {},
   "source": [
    "4) En un ciclo for mostrar para los valores entre 0 y 5 el resultado de elevarlo a la potencia igual a 3\n"
   ]
  },
  {
   "cell_type": "code",
   "execution_count": null,
   "metadata": {},
   "outputs": [],
   "source": [
    "for l in range(0,6):\n",
    "    print(l**3)"
   ]
  },
  {
   "attachments": {},
   "cell_type": "markdown",
   "metadata": {},
   "source": [
    "5) Crear una variable que contenga un número entero y realizar un ciclo for la misma cantidad de ciclos\n"
   ]
  },
  {
   "cell_type": "code",
   "execution_count": null,
   "metadata": {},
   "outputs": [],
   "source": [
    "num = 5 \n",
    "for i in range(num):\n",
    "    pass\n",
    "    print(\"hola\")"
   ]
  },
  {
   "attachments": {},
   "cell_type": "markdown",
   "metadata": {},
   "source": [
    "6) Utilizar un ciclo while para realizar el factorial de un número guardado en una variable, sólo si la variable contiene un número entero mayor a 0\n"
   ]
  },
  {
   "cell_type": "code",
   "execution_count": null,
   "metadata": {},
   "outputs": [],
   "source": [
    "fac = 10\n",
    "tor = fac\n",
    "contador = 0\n",
    "if fac > 0:\n",
    "    for o in range(tor):\n",
    "        contador += 1\n",
    "        tor = tor - 1 \n",
    "        fac = fac * tor\n",
    "        if tor == 1 :\n",
    "            print(fac, 'es el valor de fac')\n",
    "            print('la cantidad de ciclos fue',contador)\n",
    "            \n"
   ]
  },
  {
   "attachments": {},
   "cell_type": "markdown",
   "metadata": {},
   "source": [
    "7) Crear un ciclo for dentro de un ciclo while\n"
   ]
  },
  {
   "cell_type": "code",
   "execution_count": null,
   "metadata": {},
   "outputs": [],
   "source": [
    "k = 10\n",
    "k = k + 1 \n",
    "j = 10\n",
    "j = j + 1 \n",
    "jk = range(j)\n",
    "ci = range(k)\n",
    "for ci in ci:\n",
    "    print(ci * 3)"
   ]
  },
  {
   "attachments": {},
   "cell_type": "markdown",
   "metadata": {},
   "source": [
    "8) Crear un ciclo while dentro de un ciclo for\n"
   ]
  },
  {
   "attachments": {},
   "cell_type": "markdown",
   "metadata": {},
   "source": [
    "9) Imprimir los números primos existentes entre 0 y 30\n"
   ]
  },
  {
   "cell_type": "code",
   "execution_count": 2,
   "metadata": {},
   "outputs": [
    {
     "name": "stdout",
     "output_type": "stream",
     "text": [
      "0\n",
      "1\n",
      "2\n",
      "3\n",
      "5\n",
      "7\n",
      "11\n",
      "13\n",
      "17\n",
      "19\n",
      "23\n",
      "29\n",
      "31\n",
      "37\n",
      "41\n",
      "43\n",
      "47\n",
      "53\n",
      "59\n",
      "61\n",
      "67\n",
      "71\n",
      "73\n",
      "79\n",
      "83\n",
      "89\n",
      "97\n",
      "4753\n"
     ]
    }
   ],
   "source": [
    "num_max = 100\n",
    "conteo = 0\n",
    "for nro in range(0,int(num_max)):\n",
    "    es_primo = True\n",
    "    for o in range(2,nro):\n",
    "        conteo += 1\n",
    "        if(nro%o == 0):\n",
    "            es_primo = False\n",
    "    if(es_primo):\n",
    "        print(nro)\n",
    "        \n",
    "print(conteo)\n",
    "        "
   ]
  },
  {
   "attachments": {},
   "cell_type": "markdown",
   "metadata": {},
   "source": [
    "10) ¿Se puede mejorar el proceso del punto 9? Utilizar las sentencias break y/ó continue para tal fin\n"
   ]
  },
  {
   "cell_type": "code",
   "execution_count": null,
   "metadata": {},
   "outputs": [],
   "source": [
    "num_max = 31\n",
    "for nro in range(0,int(num_max)):\n",
    "    es_primo = True\n",
    "    for o in range(2,nro):\n",
    "        if(nro%o == 0):\n",
    "            es_primo = False\n",
    "            break\n",
    "    if(es_primo):\n",
    "        print(nro)"
   ]
  },
  {
   "attachments": {},
   "cell_type": "markdown",
   "metadata": {},
   "source": [
    "11) En los puntos 9 y 10, se diseño un código que encuentra números primos y además se lo optimizó. ¿Es posible saber en qué medida se optimizó?\n"
   ]
  },
  {
   "cell_type": "code",
   "execution_count": null,
   "metadata": {},
   "outputs": [],
   "source": [
    "num_max = 31\n",
    "conteo = 0\n",
    "for nro in range(0,int(num_max)):\n",
    "    es_primo = True\n",
    "    for o in range(2,nro):\n",
    "        conteo += 1\n",
    "        if(nro%o == 0):\n",
    "            es_primo = False\n",
    "            break\n",
    "    if(es_primo):\n",
    "        print(nro)\n",
    "print(conteo)\n",
    "#Sin el break tiene 406 ciclos, con el break tiene 135 ciclos, lo que supone un 33% de el total de los 406 ciclos, los ciclos se redujieron en un 66%"
   ]
  },
  {
   "attachments": {},
   "cell_type": "markdown",
   "metadata": {},
   "source": [
    "12) Si la cantidad de números que se evalúa es mayor a treinta, esa optimización crece?\n"
   ]
  },
  {
   "cell_type": "code",
   "execution_count": null,
   "metadata": {},
   "outputs": [],
   "source": [
    "num_max =30\n",
    "conteo = 0\n",
    "for nro in range(0,int(num_max)):\n",
    "    es_primo = True\n",
    "    for o in range(2,nro):\n",
    "        conteo += 1\n",
    "        if(nro%o == 0):\n",
    "            es_primo = False\n",
    "            \n",
    "    if(es_primo):\n",
    "        print(nro)\n",
    "print(conteo)"
   ]
  },
  {
   "attachments": {},
   "cell_type": "markdown",
   "metadata": {},
   "source": [
    "13) Aplicando continue, armar un ciclo while que solo imprima los valores divisibles por 12, dentro del rango de números de 100 a 300\n"
   ]
  },
  {
   "cell_type": "code",
   "execution_count": 6,
   "metadata": {},
   "outputs": [
    {
     "name": "stdout",
     "output_type": "stream",
     "text": [
      "108 es divisible por 12\n",
      "120 es divisible por 12\n",
      "132 es divisible por 12\n",
      "144 es divisible por 12\n",
      "156 es divisible por 12\n",
      "168 es divisible por 12\n",
      "180 es divisible por 12\n",
      "192 es divisible por 12\n",
      "204 es divisible por 12\n",
      "216 es divisible por 12\n",
      "228 es divisible por 12\n",
      "240 es divisible por 12\n",
      "252 es divisible por 12\n",
      "264 es divisible por 12\n",
      "276 es divisible por 12\n",
      "288 es divisible por 12\n",
      "300 es divisible por 12\n"
     ]
    }
   ],
   "source": [
    "numero = 100\n",
    "while numero <=300:\n",
    "    numero += 1 \n",
    "    if(numero % 12 == 0):\n",
    "        print(numero, 'es divisible por 12')"
   ]
  },
  {
   "attachments": {},
   "cell_type": "markdown",
   "metadata": {},
   "source": [
    "14) Utilizar la función **input()** que permite hacer ingresos por teclado, para encontrar números primos y dar la opción al usario de buscar el siguiente\n"
   ]
  },
  {
   "attachments": {},
   "cell_type": "markdown",
   "metadata": {},
   "source": [
    "15) Crear un ciclo while que encuentre dentro del rango de 100 a 300 el primer número divisible por 3 y además múltiplo de 6\n"
   ]
  },
  {
   "cell_type": "code",
   "execution_count": 4,
   "metadata": {},
   "outputs": [
    {
     "name": "stdout",
     "output_type": "stream",
     "text": [
      "102 es divisible por 3\n",
      "102 es igual a 6 X 17.0\n"
     ]
    }
   ],
   "source": [
    "var = 100\n",
    "while var <=300:\n",
    "    var += 1\n",
    "    if(var % 3 == 0):\n",
    "        print(var, 'es divisible por 3')\n",
    "        if(var % 6 == 0):\n",
    "            print(var, 'es igual a 6 X',var / 6)\n",
    "            break"
   ]
  }
 ],
 "metadata": {
  "kernelspec": {
   "display_name": "Python 3",
   "language": "python",
   "name": "python3"
  },
  "language_info": {
   "codemirror_mode": {
    "name": "ipython",
    "version": 3
   },
   "file_extension": ".py",
   "mimetype": "text/x-python",
   "name": "python",
   "nbconvert_exporter": "python",
   "pygments_lexer": "ipython3",
   "version": "3.11.2"
  },
  "orig_nbformat": 4
 },
 "nbformat": 4,
 "nbformat_minor": 2
}
